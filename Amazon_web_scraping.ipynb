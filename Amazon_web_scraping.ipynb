{
 "cells": [
  {
   "cell_type": "markdown",
   "id": "4d529c56",
   "metadata": {},
   "source": [
    "# Amazon Web Scraping\n"
   ]
  },
  {
   "cell_type": "code",
   "execution_count": 30,
   "id": "8c54417b",
   "metadata": {},
   "outputs": [],
   "source": [
    "#import libraries\n",
    "\n",
    "from bs4 import BeautifulSoup\n",
    "import smtplib #to send email to myself\n",
    "import time\n",
    "import pandas as pd\n",
    "import datetime\n",
    "\n",
    "#pour la partie envoie du mail\n",
    "import json\n",
    "from email.message import EmailMessage\n",
    "import smtplib"
   ]
  },
  {
   "cell_type": "markdown",
   "id": "364d7e5a",
   "metadata": {},
   "source": [
    " ## Recupere le prix d'un produit amazon grace à son lien"
   ]
  },
  {
   "cell_type": "code",
   "execution_count": 31,
   "id": "1eadd3cf",
   "metadata": {},
   "outputs": [
    {
     "name": "stdout",
     "output_type": "stream",
     "text": [
      "Apple iPhone 13, 256GB, Blue - Unlocked (Renewed)\n",
      "609.99\n"
     ]
    }
   ],
   "source": [
    "#connect to website\n",
    "URL ='https://www.amazon.com/Apple-iPhone-13-256GB-Blue/dp/B09LNFRHGN/ref=sr_1_1?keywords=iphone+13&qid=1661528463&sprefix=iphon%2Caps%2C175&sr=8-1'\n",
    "#acces on https://httpbin.org/get\n",
    "headers = {\"User-Agent\": \"Mozilla/5.0 (Windows NT 10.0; Win64; x64) AppleWebKit/537.36 (KHTML, like Gecko) Chrome/103.0.0.0 Safari/537.36\",\"Accept-Encoding\": \"gzip, deflate, br\", \"Accept\": \"text/html,application/xhtml+xml,application/xml;q=0.9,image/avif,image/webp,image/apng,*/*;q=0.8,application/signed-exchange;v=b3;q=0.9\",\"Connection\":\"close\",\"Upgrade-Insecure-Requests\": \"1\",}\n",
    "\n",
    "page = requests.get(URL, headers=headers)\n",
    "\n",
    "soup1 = BeautifulSoup(page.content, \"html.parser\")\n",
    "\n",
    "# print(soup1) show the html code of the amazon page\n",
    "\n",
    "soup2 = BeautifulSoup(soup1.prettify(),\"html.parser\" ) #simplifie le contenu de soup1 grace a la fct prettify\n",
    "\n",
    "#print(soup2)\n",
    "\n",
    "title = soup2.find(id=\"productTitle\").get_text()\n",
    "price = soup2.find(id=\"price_inside_buybox\").get_text()\n",
    "\n",
    "# Clean up the data a little bit\n",
    "\n",
    "price = price.strip()[1:]\n",
    "title = title.strip()\n",
    "\n",
    "print(title)\n",
    "print(price)"
   ]
  },
  {
   "cell_type": "code",
   "execution_count": 32,
   "id": "4ae7b223",
   "metadata": {},
   "outputs": [
    {
     "name": "stdout",
     "output_type": "stream",
     "text": [
      "2022-11-23\n"
     ]
    }
   ],
   "source": [
    "today = datetime.date.today()\n",
    "print(today)"
   ]
  },
  {
   "cell_type": "markdown",
   "id": "329dc696",
   "metadata": {},
   "source": [
    "## Creer fichier CSV (nom produit , prix , date ) "
   ]
  },
  {
   "cell_type": "code",
   "execution_count": 33,
   "id": "313eedb7",
   "metadata": {},
   "outputs": [],
   "source": [
    "import csv\n",
    "\n",
    "header = ['Title','Price','Date']\n",
    "data = [title , price,today]\n",
    "\n",
    "#creer fichier csv en ecriture (write) , newline empeche les espaaces entre chaque csv\n",
    "with open('AmazonWebscrapper.csv','w', newline='', encoding='UTF8') as f :\n",
    "    writer = csv.writer(f)\n",
    "    writer.writerow(header) #initial insertition of the header in the csv\n",
    "    writer.writerow(data) #initial insertition of the data in the csv"
   ]
  },
  {
   "cell_type": "markdown",
   "id": "18a3365e",
   "metadata": {},
   "source": [
    "# Affiche fichier CSV "
   ]
  },
  {
   "cell_type": "code",
   "execution_count": 34,
   "id": "42f15047",
   "metadata": {},
   "outputs": [
    {
     "name": "stdout",
     "output_type": "stream",
     "text": [
      "                                               Title  Price        Date\n",
      "0  Apple iPhone 13, 256GB, Blue - Unlocked (Renewed)  800.0  2022-08-30\n",
      "1  Apple iPhone 13, 256GB, Blue - Unlocked (Renewed)  800.0  2022-08-30\n",
      "2  Apple iPhone 13, 256GB, Blue - Unlocked (Renewed)  800.0  2022-08-30\n",
      "3  Apple iPhone 13, 256GB, Blue - Unlocked (Renewed)  800.0  2022-08-30\n",
      "4  Apple iPhone 13, 256GB, Blue - Unlocked (Renewed)  800.0  2022-08-30\n",
      "5  Apple iPhone 13, 256GB, Blue - Unlocked (Renewed)  800.0  2022-08-30\n",
      "6  Apple iPhone 13, 256GB, Blue - Unlocked (Renewed)  800.0  2022-08-30\n"
     ]
    }
   ],
   "source": [
    "import pandas as pd\n",
    "\n",
    "df = pd.read_csv(r'C:\\Users\\adanz\\Desktop\\programme perso\\Python\\WebScrapping\\AmazonWebscrapper.csv') #modifier ce chemin \n",
    "print(df) #affiche le fichier csv dans le terminal "
   ]
  },
  {
   "cell_type": "code",
   "execution_count": 35,
   "id": "5ea1acf9",
   "metadata": {},
   "outputs": [],
   "source": [
    "#Now we are appending data to the csv\n",
    "with open('AmazonWebscrapper.csv', 'a+', newline='', encoding='UTF8') as f:\n",
    "    writer = csv.writer(f)\n",
    "    writer.writerow(data)\n"
   ]
  },
  {
   "cell_type": "markdown",
   "id": "f0611fd2",
   "metadata": {},
   "source": [
    "## Fonctions permetant d'envoyant un mail si le prix du produit est inferieur à un prix donné"
   ]
  },
  {
   "cell_type": "code",
   "execution_count": 40,
   "id": "c8e0e1ee",
   "metadata": {},
   "outputs": [],
   "source": [
    "def check_price(limitprice): #utilise le code defini dans les autres parties\n",
    "\n",
    "    #connect to website\n",
    "    URL ='https://www.amazon.com/Apple-iPhone-13-256GB-Blue/dp/B09LNFRHGN/ref=sr_1_1?keywords=iphone+13&qid=1661528463&sprefix=iphon%2Caps%2C175&sr=8-1'\n",
    "    #acces on https://httpbin.org/get\n",
    "    headers = {\"User-Agent\": \"Mozilla/5.0 (Windows NT 10.0; Win64; x64) AppleWebKit/537.36 (KHTML, like Gecko) Chrome/103.0.0.0 Safari/537.36\",\"Accept-Encoding\": \"gzip, deflate, br\", \"Accept\": \"text/html,application/xhtml+xml,application/xml;q=0.9,image/avif,image/webp,image/apng,*/*;q=0.8,application/signed-exchange;v=b3;q=0.9\",\"Connection\":\"close\",\"Upgrade-Insecure-Requests\": \"1\",}\n",
    "\n",
    "    page = requests.get(URL, headers=headers)\n",
    "\n",
    "    soup1 = BeautifulSoup(page.content, \"html.parser\")\n",
    "\n",
    "    # print(soup1) show the html code of the amazon page\n",
    "\n",
    "    soup2 = BeautifulSoup(soup1.prettify(),\"html.parser\" ) #simplifie le contenu de soup1 grace a la fct prettify\n",
    "\n",
    "    #print(soup2)\n",
    "\n",
    "    title = soup2.find(id=\"productTitle\").get_text()\n",
    "    price = soup2.find(id=\"price_inside_buybox\").get_text()\n",
    "\n",
    "    # Clean up the data a little bit\n",
    "\n",
    "    price = price.strip()[1:]\n",
    "    title = title.strip()\n",
    "\n",
    "    if(float(price) < limitprice ) :\n",
    "            send_mail()\n",
    "\n",
    "            \n",
    "def send_mail():\n",
    "    msg = EmailMessage()\n",
    "    msg[\"to\"]=\"\" #email destinataire\n",
    "    msg[\"from\"]=\"\" #email de l'envoyeur\n",
    "    msg[\"subject\"]= \"Alerte Prix bas\"\n",
    "    msg.set_content(\"le produit\"+title+\" à eu une baisse de prix Ancien prix : \"+ price)\n",
    "    with  smtplib.SMTP_SSL(\"smtp.gmail.com\",465)as smtp:\n",
    "        smtp.login(\"\",\"\") #(email envoyeur , \"mot de passe d'aplication\" gmail se trouvant dans les parametre de sécurité de gmail) \n",
    "        smtp.send_message(msg)\n",
    "        print(\"Email envoyé\")"
   ]
  },
  {
   "cell_type": "code",
   "execution_count": 41,
   "id": "13ff01c9",
   "metadata": {},
   "outputs": [
    {
     "name": "stdout",
     "output_type": "stream",
     "text": [
      "Email envoyé\n",
      "Email envoyé\n",
      "Email envoyé\n",
      "Email envoyé\n"
     ]
    },
    {
     "ename": "KeyboardInterrupt",
     "evalue": "",
     "output_type": "error",
     "traceback": [
      "\u001b[1;31m---------------------------------------------------------------------------\u001b[0m",
      "\u001b[1;31mKeyboardInterrupt\u001b[0m                         Traceback (most recent call last)",
      "\u001b[1;32m~\\AppData\\Local\\Temp\\ipykernel_15340\\594700634.py\u001b[0m in \u001b[0;36m<module>\u001b[1;34m\u001b[0m\n\u001b[0;32m      1\u001b[0m \u001b[1;32mwhile\u001b[0m\u001b[1;33m(\u001b[0m\u001b[1;32mTrue\u001b[0m\u001b[1;33m)\u001b[0m\u001b[1;33m:\u001b[0m\u001b[1;33m\u001b[0m\u001b[1;33m\u001b[0m\u001b[0m\n\u001b[0;32m      2\u001b[0m     \u001b[0mcheck_price\u001b[0m\u001b[1;33m(\u001b[0m\u001b[1;36m700\u001b[0m\u001b[1;33m)\u001b[0m \u001b[1;31m#600 = prix à partir du quel un email est envoyé\u001b[0m\u001b[1;33m\u001b[0m\u001b[1;33m\u001b[0m\u001b[0m\n\u001b[1;32m----> 3\u001b[1;33m     \u001b[0mtime\u001b[0m\u001b[1;33m.\u001b[0m\u001b[0msleep\u001b[0m\u001b[1;33m(\u001b[0m\u001b[1;36m5\u001b[0m\u001b[1;33m)\u001b[0m\u001b[1;33m\u001b[0m\u001b[1;33m\u001b[0m\u001b[0m\n\u001b[0m",
      "\u001b[1;31mKeyboardInterrupt\u001b[0m: "
     ]
    }
   ],
   "source": [
    "#stoper manuellement la boucle sinon trop de mail envoyé\n",
    "while(True):\n",
    "    check_price(700) #700 = prix à partir du quel un email est envoyé\n",
    "    time.sleep(5)"
   ]
  },
  {
   "cell_type": "markdown",
   "id": "cdec0b04",
   "metadata": {},
   "source": [
    "### Exemple de mail recu si le destinaire et l'envoyeur sont les memes"
   ]
  },
  {
   "attachments": {
    "Email.png": {
     "image/png": "[encoded data removed]"
    }
   },
   "cell_type": "markdown",
   "id": "8eb0a7bf",
   "metadata": {},
   "source": [
    "![Email.png](attachment:Email.png)"
   ]
  },
  {
   "cell_type": "code",
   "execution_count": 15,
   "id": "b1368983",
   "metadata": {},
   "outputs": [
    {
     "name": "stdout",
     "output_type": "stream",
     "text": [
      "                                               Title  Price        Date\n",
      "0  Apple iPhone 13, 256GB, Blue - Unlocked (Renewed)  800.0  2022-08-30\n",
      "1  Apple iPhone 13, 256GB, Blue - Unlocked (Renewed)  800.0  2022-08-30\n",
      "2  Apple iPhone 13, 256GB, Blue - Unlocked (Renewed)  800.0  2022-08-30\n",
      "3  Apple iPhone 13, 256GB, Blue - Unlocked (Renewed)  800.0  2022-08-30\n",
      "4  Apple iPhone 13, 256GB, Blue - Unlocked (Renewed)  800.0  2022-08-30\n",
      "5  Apple iPhone 13, 256GB, Blue - Unlocked (Renewed)  800.0  2022-08-30\n",
      "6  Apple iPhone 13, 256GB, Blue - Unlocked (Renewed)  800.0  2022-08-30\n"
     ]
    }
   ],
   "source": [
    "df = pd.read_csv(r'C:\\Users\\adanz\\Desktop\\programme perso\\Python\\WebScrapping\\AmazonWebscrapper.csv')\n",
    "print(df) #affiche le fichier csv dans le terminal "
   ]
  }
 ],
 "metadata": {
  "kernelspec": {
   "display_name": "Python 3 (ipykernel)",
   "language": "python",
   "name": "python3"
  },
  "language_info": {
   "codemirror_mode": {
    "name": "ipython",
    "version": 3
   },
   "file_extension": ".py",
   "mimetype": "text/x-python",
   "name": "python",
   "nbconvert_exporter": "python",
   "pygments_lexer": "ipython3",
   "version": "3.9.13"
  }
 },
 "nbformat": 4,
 "nbformat_minor": 5
}
