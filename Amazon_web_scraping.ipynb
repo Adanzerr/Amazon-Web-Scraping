{
 "cells": [
  {
   "cell_type": "code",
   "execution_count": 1,
   "id": "2188d2c1",
   "metadata": {},
   "outputs": [],
   "source": [
    "#import libraries\n",
    "\n",
    "from bs4 import BeautifulSoup\n",
    "import requests #to send email to myself\n",
    "import time\n",
    "import datetime\n",
    "\n",
    "import smtplib"
   ]
  },
  {
   "cell_type": "code",
   "execution_count": 2,
   "id": "1eadd3cf",
   "metadata": {},
   "outputs": [
    {
     "name": "stdout",
     "output_type": "stream",
     "text": [
      "\n",
      "            Apple iPhone 13, 256GB, Blue - Unlocked (Renewed)\n",
      "           \n",
      "\n",
      "                     $800.00\n",
      "                    \n"
     ]
    }
   ],
   "source": [
    "#connect to website\n",
    "URL ='https://www.amazon.com/Apple-iPhone-13-256GB-Blue/dp/B09LNFRHGN/ref=sr_1_1?keywords=iphone+13&qid=1661528463&sprefix=iphon%2Caps%2C175&sr=8-1'\n",
    "#acces on https://httpbin.org/get\n",
    "headers = {\"User-Agent\": \"Mozilla/5.0 (Windows NT 10.0; Win64; x64) AppleWebKit/537.36 (KHTML, like Gecko) Chrome/103.0.0.0 Safari/537.36\",\"Accept-Encoding\": \"gzip, deflate, br\", \"Accept\": \"text/html,application/xhtml+xml,application/xml;q=0.9,image/avif,image/webp,image/apng,*/*;q=0.8,application/signed-exchange;v=b3;q=0.9\",\"Connection\":\"close\",\"Upgrade-Insecure-Requests\": \"1\",}\n",
    "\n",
    "page = requests.get(URL, headers=headers)\n",
    "\n",
    "soup1 = BeautifulSoup(page.content, \"html.parser\")\n",
    "\n",
    "# print(soup1) show the html code of the amazon page\n",
    "\n",
    "soup2 = BeautifulSoup(soup1.prettify(),\"html.parser\" ) #simplifie le contenu de soup1 grace a la fct prettify\n",
    "\n",
    "#print(soup2)\n",
    "\n",
    "title = soup2.find(id=\"productTitle\").get_text()\n",
    "price = soup2.find(id=\"renewedBuyBoxPrice\").get_text()\n",
    "\n",
    "print(title)\n",
    "print(price)\n",
    "\n",
    "\n",
    "\n"
   ]
  },
  {
   "cell_type": "code",
   "execution_count": 3,
   "id": "69717b48",
   "metadata": {},
   "outputs": [
    {
     "name": "stdout",
     "output_type": "stream",
     "text": [
      "Apple iPhone 13, 256GB, Blue - Unlocked (Renewed)\n",
      "800.00\n"
     ]
    }
   ],
   "source": [
    "# Clean up the data a little bit\n",
    "\n",
    "price = price.strip()[1:]\n",
    "title = title.strip()\n",
    "\n",
    "print(title)\n",
    "print(price)\n",
    "#type(price)\n"
   ]
  },
  {
   "cell_type": "code",
   "execution_count": 4,
   "id": "4ae7b223",
   "metadata": {},
   "outputs": [
    {
     "name": "stdout",
     "output_type": "stream",
     "text": [
      "2022-08-30\n"
     ]
    }
   ],
   "source": [
    "import datetime\n",
    "\n",
    "\n",
    "today = datetime.date.today()\n",
    "print(today)"
   ]
  },
  {
   "cell_type": "code",
   "execution_count": 5,
   "id": "313eedb7",
   "metadata": {},
   "outputs": [],
   "source": [
    "import csv\n",
    "\n",
    "header = ['Title','Price','Date']\n",
    "data = [title , price,today]\n",
    "\n",
    "#creer fichier csv en ecriture (write) , newline empeche les espaaces entre chaque csv\n",
    "with open('AmazonWebscrapper.csv','w', newline='', encoding='UTF8') as f :\n",
    "    writer = csv.writer(f)\n",
    "    writer.writerow(header) #initial insertition of the header in the csv\n",
    "    writer.writerow(data) #initial insertition of the data in the csv"
   ]
  },
  {
   "cell_type": "code",
   "execution_count": 6,
   "id": "42f15047",
   "metadata": {},
   "outputs": [
    {
     "name": "stdout",
     "output_type": "stream",
     "text": [
      "                                               Title  Price        Date\n",
      "0  Apple iPhone 13, 256GB, Blue - Unlocked (Renewed)  800.0  2022-08-30\n"
     ]
    }
   ],
   "source": [
    "import pandas as pd\n",
    "\n",
    "df = pd.read_csv(r'C:\\Users\\adanz\\Desktop\\programme perso\\Python\\WebScrapping\\AmazonWebscrapper.csv')\n",
    "print(df) #affiche le fichier csv dans le terminal "
   ]
  },
  {
   "cell_type": "code",
   "execution_count": 7,
   "id": "5ea1acf9",
   "metadata": {},
   "outputs": [],
   "source": [
    "#Now we are appending data to the csv\n",
    "\n",
    "with open('AmazonWebscrapper.csv', 'a+', newline='', encoding='UTF8') as f:\n",
    "    writer = csv.writer(f)\n",
    "    writer.writerow(data)\n"
   ]
  },
  {
   "cell_type": "code",
   "execution_count": 12,
   "id": "c8e0e1ee",
   "metadata": {},
   "outputs": [],
   "source": [
    "def check_price():\n",
    "    URL ='https://www.amazon.com/Apple-iPhone-13-256GB-Blue/dp/B09LNFRHGN/ref=sr_1_1?keywords=iphone+13&qid=1661528463&sprefix=iphon%2Caps%2C175&sr=8-1'\n",
    "    \n",
    "    headers = {\"User-Agent\": \"Mozilla/5.0 (Windows NT 10.0; Win64; x64) AppleWebKit/537.36 (KHTML, like Gecko) Chrome/103.0.0.0 Safari/537.36\",\"Accept-Encoding\": \"gzip, deflate, br\", \"Accept\": \"text/html,application/xhtml+xml,application/xml;q=0.9,image/avif,image/webp,image/apng,*/*;q=0.8,application/signed-exchange;v=b3;q=0.9\",\"Connection\":\"close\",\"Upgrade-Insecure-Requests\": \"1\",}\n",
    "\n",
    "    page = requests.get(URL, headers=headers)\n",
    "\n",
    "    soup1 = BeautifulSoup(page.content, \"html.parser\")\n",
    "\n",
    "    \n",
    "    soup2 = BeautifulSoup(soup1.prettify(),\"html.parser\" ) #simplifie le contenu de soup1 grace a la fct prettify\n",
    "    \n",
    "    title = soup2.find(id=\"productTitle\").get_text()\n",
    "    \n",
    "    price = soup2.find(id=\"renewedBuyBoxPrice\").get_text()\n",
    "    \n",
    "    price = price.strip()[1:]\n",
    "    \n",
    "    title = title.strip()\n",
    "    \n",
    "    import datetime\n",
    "\n",
    "    today = datetime.date.today()\n",
    "    \n",
    "    import csv \n",
    "\n",
    "    header = ['Title', 'Price', 'Date']\n",
    "    data = [title, price, today]\n",
    "\n",
    "    with open('AmazonWebscrapper.csv', 'a+', newline='', encoding='UTF8') as f:\n",
    "        writer = csv.writer(f)\n",
    "        writer.writerow(data)\n",
    "        \n",
    "    if(float(price) < 600 ) :\n",
    "        send_email()"
   ]
  },
  {
   "cell_type": "code",
   "execution_count": 13,
   "id": "13ff01c9",
   "metadata": {},
   "outputs": [
    {
     "ename": "KeyboardInterrupt",
     "evalue": "",
     "output_type": "error",
     "traceback": [
      "\u001b[1;31m---------------------------------------------------------------------------\u001b[0m",
      "\u001b[1;31mKeyboardInterrupt\u001b[0m                         Traceback (most recent call last)",
      "\u001b[1;32m<ipython-input-13-9d49b55d09d0>\u001b[0m in \u001b[0;36m<module>\u001b[1;34m\u001b[0m\n\u001b[0;32m      1\u001b[0m \u001b[1;32mwhile\u001b[0m\u001b[1;33m(\u001b[0m\u001b[1;32mTrue\u001b[0m\u001b[1;33m)\u001b[0m\u001b[1;33m:\u001b[0m\u001b[1;33m\u001b[0m\u001b[1;33m\u001b[0m\u001b[0m\n\u001b[0;32m      2\u001b[0m     \u001b[0mcheck_price\u001b[0m\u001b[1;33m(\u001b[0m\u001b[1;33m)\u001b[0m\u001b[1;33m\u001b[0m\u001b[1;33m\u001b[0m\u001b[0m\n\u001b[1;32m----> 3\u001b[1;33m     \u001b[0mtime\u001b[0m\u001b[1;33m.\u001b[0m\u001b[0msleep\u001b[0m\u001b[1;33m(\u001b[0m\u001b[1;36m5\u001b[0m\u001b[1;33m)\u001b[0m\u001b[1;33m\u001b[0m\u001b[1;33m\u001b[0m\u001b[0m\n\u001b[0m",
      "\u001b[1;31mKeyboardInterrupt\u001b[0m: "
     ]
    }
   ],
   "source": [
    "\n",
    "while(True):\n",
    "    check_price()\n",
    "    time.sleep(5)"
   ]
  },
  {
   "cell_type": "code",
   "execution_count": 14,
   "id": "b1368983",
   "metadata": {},
   "outputs": [
    {
     "name": "stdout",
     "output_type": "stream",
     "text": [
      "                                               Title  Price        Date\n",
      "0  Apple iPhone 13, 256GB, Blue - Unlocked (Renewed)  800.0  2022-08-30\n",
      "1  Apple iPhone 13, 256GB, Blue - Unlocked (Renewed)  800.0  2022-08-30\n",
      "2  Apple iPhone 13, 256GB, Blue - Unlocked (Renewed)  800.0  2022-08-30\n",
      "3  Apple iPhone 13, 256GB, Blue - Unlocked (Renewed)  800.0  2022-08-30\n",
      "4  Apple iPhone 13, 256GB, Blue - Unlocked (Renewed)  800.0  2022-08-30\n",
      "5  Apple iPhone 13, 256GB, Blue - Unlocked (Renewed)  800.0  2022-08-30\n",
      "6  Apple iPhone 13, 256GB, Blue - Unlocked (Renewed)  800.0  2022-08-30\n"
     ]
    }
   ],
   "source": [
    "import pandas as pd\n",
    "\n",
    "df = pd.read_csv(r'C:\\Users\\adanz\\Desktop\\programme perso\\Python\\WebScrapping\\AmazonWebscrapper.csv')\n",
    "print(df) #affiche le fichier csv dans le terminal "
   ]
  },
  {
   "cell_type": "code",
   "execution_count": 15,
   "id": "4ad398a7",
   "metadata": {},
   "outputs": [],
   "source": [
    "def send_mail():\n",
    "    server = smtplib.SMTP_SSL('smtp.gmail.com',465)\n",
    "    server.ehlo()\n",
    "    #server.starttls()\n",
    "    server.ehlo()\n",
    "    server.login('adan.zerr@gmail.com','xxxxxxxMDPxxxxxxx')\n",
    "    \n",
    "    subject = \"The Phone you want is below $600! Now is your chance to buy!\"\n",
    "    body = \"Adan, This is the moment we have been waiting for. Now is your chance to pick up the phone. Don't mess it up! Link here: https://www.amazon.com/Apple-iPhone-13-256GB-Blue/dp/B09LNFRHGN/ref=sr_1_1?keywords=iphone+13&qid=1661528463&sprefix=iphon%2Caps%2C175&sr=8-1\"\n",
    "   \n",
    "    msg = f\"Subject: {subject}\\n\\n{body}\"\n",
    "    \n",
    "    server.sendmail(\n",
    "        'adan.zerr@gmail.com',\n",
    "        msg\n",
    "     \n",
    "    )"
   ]
  },
  {
   "cell_type": "code",
   "execution_count": null,
   "id": "417efd3e",
   "metadata": {},
   "outputs": [],
   "source": []
  }
 ],
 "metadata": {
  "kernelspec": {
   "display_name": "Python 3",
   "language": "python",
   "name": "python3"
  },
  "language_info": {
   "codemirror_mode": {
    "name": "ipython",
    "version": 3
   },
   "file_extension": ".py",
   "mimetype": "text/x-python",
   "name": "python",
   "nbconvert_exporter": "python",
   "pygments_lexer": "ipython3",
   "version": "3.8.8"
  }
 },
 "nbformat": 4,
 "nbformat_minor": 5
}
